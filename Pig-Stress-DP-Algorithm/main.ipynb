{
 "cells": [
  {
   "cell_type": "markdown",
   "metadata": {},
   "source": [
    "# Pig Stress Detection\n",
    "\n",
    "**Problem statement**  \n",
    "    When pigs are exposed to a severe short-term stressor,  their metabolism and body temperature increases. If this occurs just prior to slaughter, the pigs will be exsanguinated while their metabolism and body temperature are still high. Thus the students of OLFU find a solution to solve such task that doesn't involve human interaction but throught Artificial Intelligence\n",
    "\n",
    "\n",
    "In this notebook, I hope to show how a data scientist would go about working through a problem. The goal is to correctly predict if a pig is stress.\n",
    "\n",
    "\n",
    "    \n",
    "**Overall Process**\n",
    "\n",
    "0. Import Dependencies\n",
    "1. Data Collection\n",
    "2. Data Cleaning\n",
    "3. Data Pre-Processing \n",
    "4. Data Augmentation \n",
    "5. Creating **HeatMap Deep Learning Model**\n",
    "6. Training **YOLOv5** and **HeatMap Detection for stress level**\n",
    "7. Saving Models and import trained models \n",
    "8. Combine trained models\n",
    "9. Testing and Evaluation\n",
    "10. Export the function\n",
    "\n",
    "\n",
    "**Folder Descriptions**\n",
    "- heatmap: contains 2 folders with images \n",
    "- pig_annotator: contains a files for Pig annotations\n",
    "- YOLOv5_model:  contains a best trained model for YOLOv5\n",
    "- model_HeatMap: contains a best trained model for heatmap\n",
    "- history: contains training history for trained models\n",
    "\n",
    "\n"
   ]
  },
  {
   "cell_type": "markdown",
   "metadata": {},
   "source": [
    "# 0. Import Dependencies"
   ]
  },
  {
   "cell_type": "markdown",
   "metadata": {},
   "source": [
    "# 1. Data Collection"
   ]
  },
  {
   "cell_type": "markdown",
   "metadata": {},
   "source": [
    "# 2. Data Cleaning"
   ]
  },
  {
   "cell_type": "markdown",
   "metadata": {},
   "source": [
    "# 3. Data Pre-Processing"
   ]
  },
  {
   "cell_type": "markdown",
   "metadata": {},
   "source": [
    "# 4. Data Augmentation "
   ]
  },
  {
   "cell_type": "markdown",
   "metadata": {},
   "source": [
    "# 5. Creating **HeatMap Deep Learning Model**"
   ]
  },
  {
   "cell_type": "markdown",
   "metadata": {},
   "source": [
    "# 6. Training **YOLOv5** and **HeatMap Detection for stress level** "
   ]
  },
  {
   "cell_type": "markdown",
   "metadata": {},
   "source": [
    "# 7. Saving Models and import trained models "
   ]
  },
  {
   "cell_type": "markdown",
   "metadata": {},
   "source": [
    "# 8. Combine trained models"
   ]
  },
  {
   "cell_type": "markdown",
   "metadata": {},
   "source": [
    "# 9. Testing and Evaluation"
   ]
  },
  {
   "cell_type": "markdown",
   "metadata": {},
   "source": [
    "# 10. Export the function"
   ]
  },
  {
   "cell_type": "markdown",
   "metadata": {},
   "source": []
  }
 ],
 "metadata": {
  "language_info": {
   "name": "python"
  },
  "orig_nbformat": 4
 },
 "nbformat": 4,
 "nbformat_minor": 2
}
