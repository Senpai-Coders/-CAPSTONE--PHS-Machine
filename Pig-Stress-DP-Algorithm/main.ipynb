{
 "cells": [
  {
   "cell_type": "markdown",
   "metadata": {},
   "source": [
    "# Pig Stress Detection\n",
    "\n",
    "**Problem statement**  \n",
    "    When pigs are exposed to a severe short-term stressor,  their metabolism and body temperature increases. If this occurs just prior to slaughter, the pigs will be exsanguinated while their metabolism and body temperature are still high. Thus the students of OLFU find a solution to solve such task that doesn't involve human interaction but throught Artificial Intelligence\n",
    "\n",
    "\n",
    "In this notebook, I hope to show how a data scientist would go about working through a problem. The goal is to correctly predict if a pig is stress.\n",
    "\n",
    "\n",
    "    \n",
    "**Overall Process**\n",
    "\n",
    "0. Import Dependencies\n",
    "1. Data Collection\n",
    "2. Data Cleaning\n",
    "3. Data Pre-Processing \n",
    "4. Data Augmentation \n",
    "5. Creating **HeatMap Deep Learning Model**\n",
    "6. Training **YOLOv5** and **HeatMap Detection for stress level**\n",
    "7. Saving Models and import trained models \n",
    "8. Combine trained models\n",
    "9. Testing and Evaluation\n",
    "10. Export the function\n",
    "\n",
    "\n",
    "**Folder Descriptions**\n",
    "- heatmap: contains 2 folders with images \n",
    "- pig_annotator: contains a files for Pig annotations\n",
    "- YOLOv5_model:  contains a best trained model for YOLOv5\n",
    "- model_HeatMap: contains a best trained model for heatmap\n",
    "- history: contains training history for trained models\n",
    "\n",
    "\n"
   ]
  },
  {
   "cell_type": "markdown",
   "metadata": {},
   "source": [
    "# 0. Import Dependencies\n"
   ]
  },
  {
   "cell_type": "code",
   "execution_count": 2,
   "metadata": {},
   "outputs": [],
   "source": [
    "import warnings\n",
    "warnings.filterwarnings('ignore')\n",
    "\n",
    "# IO\n",
    "import urllib\n",
    "from datetime import datetime\n",
    "from tqdm import tqdm\n",
    "import pickle \n",
    "import random \n",
    "import os \n",
    "\n",
    "# Plotting \n",
    "%matplotlib inline \n",
    "import seaborn as sns\n",
    "import matplotlib.pyplot as plt\n",
    "import matplotlib.image as image\n",
    "\n",
    "\n",
    "# Data pre-processing \n",
    "import cv2 \n",
    "import math\n",
    "import numpy as np \n",
    "import pandas as pd\n",
    "\n",
    "# Testing and Evaluation\n",
    "from sklearn.metrics import classification_report\n",
    "from sklearn.model_selection import train_test_split\n",
    "\n",
    "# Building model\n",
    "import tensorflow as tf \n",
    "import tensorflow_io as tfio\n",
    "from tensorflow.keras.models import Sequential\n",
    "from tensorflow.keras.losses import categorical_crossentropy\n",
    "from tensorflow.keras.optimizers import Adam\n",
    "from tensorflow.keras.activations import relu, sigmoid, softmax, tanh\n",
    "from tensorflow.keras.layers import Conv2D, Dense, Flatten, BatchNormalization, MaxPool2D,Dropout, Add, AveragePooling2D\n",
    "from tensorflow.keras.metrics import Recall, Accuracy, Precision\n",
    "from tensorflow.keras.preprocessing.image import ImageDataGenerator\n",
    "from tensorflow.keras.callbacks import ModelCheckpoint, EarlyStopping, CSVLogger, LearningRateScheduler\n",
    "\n",
    "# Image augmentation \n",
    "import albumentations as A"
   ]
  },
  {
   "cell_type": "markdown",
   "metadata": {},
   "source": [
    "# 1. Data Collection\n",
    "In this stage the students collect the data from the internet and generate their own.  "
   ]
  },
  {
   "cell_type": "markdown",
   "metadata": {},
   "source": [
    "# 2. Data Cleaning\n",
    " Remove all duplicated images from heatmap and YOLOv5"
   ]
  },
  {
   "cell_type": "markdown",
   "metadata": {},
   "source": [
    "# 3. Data Pre-Processing and Exploration\n",
    "\n",
    "In this stage the students shall annotate the collected images using OpenLabelling, splitting the data in 2 (train test split), and exploring the data. \n"
   ]
  },
  {
   "cell_type": "markdown",
   "metadata": {},
   "source": [
    "# 4. Data Augmentation \n",
    "After data pre processing, if the number of images if too low or imbalance for both of the models we're going to train.The student will work on data augmentation to avoid overfitting and underfitting of the model."
   ]
  },
  {
   "cell_type": "markdown",
   "metadata": {},
   "source": [
    "# 5. Creating **HeatMap Deep Learning Model**"
   ]
  },
  {
   "cell_type": "markdown",
   "metadata": {},
   "source": [
    "# 6. Training **YOLOv5** and **HeatMap Detection for stress level** "
   ]
  },
  {
   "cell_type": "markdown",
   "metadata": {},
   "source": [
    "# 7. Saving Models and import trained models "
   ]
  },
  {
   "cell_type": "markdown",
   "metadata": {},
   "source": [
    "# 8. Combine trained models"
   ]
  },
  {
   "cell_type": "markdown",
   "metadata": {},
   "source": [
    "# 9. Testing and Evaluation"
   ]
  },
  {
   "cell_type": "markdown",
   "metadata": {},
   "source": [
    "# 10. Export the function"
   ]
  },
  {
   "cell_type": "markdown",
   "metadata": {},
   "source": []
  }
 ],
 "metadata": {
  "interpreter": {
   "hash": "916dbcbb3f70747c44a77c7bcd40155683ae19c65e1c03b4aa3499c5328201f1"
  },
  "kernelspec": {
   "display_name": "Python 3.9.7 64-bit",
   "language": "python",
   "name": "python3"
  },
  "language_info": {
   "codemirror_mode": {
    "name": "ipython",
    "version": 3
   },
   "file_extension": ".py",
   "mimetype": "text/x-python",
   "name": "python",
   "nbconvert_exporter": "python",
   "pygments_lexer": "ipython3",
   "version": "3.8.13"
  },
  "orig_nbformat": 4
 },
 "nbformat": 4,
 "nbformat_minor": 2
}
